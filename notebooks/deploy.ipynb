{
 "cells": [
  {
   "cell_type": "code",
   "execution_count": 1,
   "metadata": {
    "execution": {
     "iopub.execute_input": "2025-03-06T20:06:18.157063Z",
     "iopub.status.busy": "2025-03-06T20:06:18.156715Z",
     "iopub.status.idle": "2025-03-06T20:06:20.435064Z",
     "shell.execute_reply": "2025-03-06T20:06:20.434275Z",
     "shell.execute_reply.started": "2025-03-06T20:06:18.157037Z"
    }
   },
   "outputs": [
    {
     "name": "stdout",
     "output_type": "stream",
     "text": [
      "sagemaker.config INFO - Fetched defaults config from location: /etc/xdg/sagemaker/config.yaml\n",
      "sagemaker.config INFO - Not applying SDK defaults from location: /home/sagemaker-user/.config/sagemaker/config.yaml\n",
      "sagemaker.config INFO - Applied value from config key = SageMaker.PythonSDK.Modules.Session.DefaultS3Bucket\n",
      "sagemaker.config INFO - Applied value from config key = SageMaker.PythonSDK.Modules.Session.DefaultS3ObjectKeyPrefix\n",
      "sagemaker.config INFO - Applied value from config key = SageMaker.PythonSDK.Modules.Session.DefaultS3Bucket\n",
      "sagemaker.config INFO - Applied value from config key = SageMaker.PythonSDK.Modules.Session.DefaultS3ObjectKeyPrefix\n"
     ]
    }
   ],
   "source": [
    "import sagemaker\n",
    "from sagemaker.pytorch import PyTorchModel\n",
    "from sagemaker import get_execution_role\n",
    "\n",
    "# Get the SageMaker execution role\n",
    "role = get_execution_role()"
   ]
  },
  {
   "cell_type": "code",
   "execution_count": 2,
   "metadata": {
    "execution": {
     "iopub.execute_input": "2025-03-06T20:06:22.908615Z",
     "iopub.status.busy": "2025-03-06T20:06:22.908078Z",
     "iopub.status.idle": "2025-03-06T20:06:22.912042Z",
     "shell.execute_reply": "2025-03-06T20:06:22.911242Z",
     "shell.execute_reply.started": "2025-03-06T20:06:22.908562Z"
    }
   },
   "outputs": [],
   "source": [
    "s3_model_path = 's3://yolo-sagemaker/dzd_44w156ckbt7nfr/47wmx1jbrj2pif/dev/pytorch-training-2025-03-06-16-44-33-803/output/model.tar.gz'"
   ]
  },
  {
   "cell_type": "code",
   "execution_count": 3,
   "metadata": {
    "execution": {
     "iopub.execute_input": "2025-03-06T20:06:25.020920Z",
     "iopub.status.busy": "2025-03-06T20:06:25.020570Z",
     "iopub.status.idle": "2025-03-06T20:06:25.823475Z",
     "shell.execute_reply": "2025-03-06T20:06:25.822438Z",
     "shell.execute_reply.started": "2025-03-06T20:06:25.020890Z"
    }
   },
   "outputs": [
    {
     "name": "stdout",
     "output_type": "stream",
     "text": [
      "sagemaker.config INFO - Applied value from config key = SageMaker.Model.VpcConfig\n"
     ]
    }
   ],
   "source": [
    "model = PyTorchModel(\n",
    "    model_data=s3_model_path,\n",
    "    role=role,\n",
    "    framework_version='2.0',\n",
    "    py_version='py310',\n",
    "    entry_point='inference.py',\n",
    "    source_dir=\"../src\"\n",
    ")"
   ]
  },
  {
   "cell_type": "code",
   "execution_count": 6,
   "metadata": {
    "execution": {
     "iopub.execute_input": "2025-03-06T20:08:31.673303Z",
     "iopub.status.busy": "2025-03-06T20:08:31.672716Z",
     "iopub.status.idle": "2025-03-06T20:13:37.252301Z",
     "shell.execute_reply": "2025-03-06T20:13:37.250566Z",
     "shell.execute_reply.started": "2025-03-06T20:08:31.673276Z"
    }
   },
   "outputs": [
    {
     "name": "stdout",
     "output_type": "stream",
     "text": [
      "---------!"
     ]
    }
   ],
   "source": [
    "predictor = model.deploy(\n",
    "    initial_instance_count=1,\n",
    "    instance_type='ml.t2.large',\n",
    "    endpoint_name='cat-dog-classifier-v2'\n",
    ")"
   ]
  },
  {
   "cell_type": "code",
   "execution_count": null,
   "metadata": {},
   "outputs": [],
   "source": []
  }
 ],
 "metadata": {
  "kernelspec": {
   "display_name": "Python 3 (ipykernel)",
   "language": "python",
   "name": "python3"
  },
  "language_info": {
   "codemirror_mode": {
    "name": "ipython",
    "version": 3
   },
   "file_extension": ".py",
   "mimetype": "text/x-python",
   "name": "python",
   "nbconvert_exporter": "python",
   "pygments_lexer": "ipython3",
   "version": "3.11.11"
  }
 },
 "nbformat": 4,
 "nbformat_minor": 4
}
